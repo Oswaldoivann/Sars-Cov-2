{
  "cells": [
    {
      "cell_type": "markdown",
      "metadata": {
        "id": "view-in-github",
        "colab_type": "text"
      },
      "source": [
        "<a href=\"https://colab.research.google.com/github/Oswaldoivann/Sars-Cov-2/blob/main/TRANSFORMACION.ipynb\" target=\"_parent\"><img src=\"https://colab.research.google.com/assets/colab-badge.svg\" alt=\"Open In Colab\"/></a>"
      ]
    },
    {
      "cell_type": "code",
      "execution_count": null,
      "metadata": {
        "id": "JUha3c2aOVKB",
        "tags": []
      },
      "outputs": [],
      "source": [
        "import pandas as pd\n",
        "import numpy as np\n",
        "import seaborn as sns"
      ]
    },
    {
      "cell_type": "markdown",
      "metadata": {
        "id": "e0V8vyo_NOZR",
        "tags": []
      },
      "source": [
        "# TRANSFORMAMOS NUESTRA BASE DE DATOS"
      ]
    },
    {
      "cell_type": "code",
      "execution_count": null,
      "metadata": {
        "id": "7VGIWnshkdun"
      },
      "outputs": [],
      "source": [
        "# IMPORTACION DE CSV DESDE COLAB \n",
        "\n",
        "#from google.colab import drive\n",
        "#drive.mount('/content/drive')\n",
        "#df = pd.read_csv('/content/drive/MyDrive/DATOS/COVID19MEXICO.csv')"
      ]
    },
    {
      "cell_type": "code",
      "execution_count": null,
      "metadata": {
        "id": "QJ8a0Gx1xRYG",
        "outputId": "40b5e660-3c8b-420c-b00d-73cedc7211a3"
      },
      "outputs": [
        {
          "name": "stderr",
          "output_type": "stream",
          "text": [
            "C:\\Users\\oswal\\anaconda3\\lib\\site-packages\\IPython\\core\\interactiveshell.py:3165: DtypeWarning: Columns (38) have mixed types.Specify dtype option on import or set low_memory=False.\n",
            "  has_raised = await self.run_ast_nodes(code_ast.body, cell_name,\n"
          ]
        }
      ],
      "source": [
        "# IMPORTACION DE CSV DESDE LOCAL EN JUPYTER\n",
        "df = pd.read_csv(r'C:\\Users\\oswal\\Documents\\datos_abiertos_covid19\\COVID19MEXICO.csv',\n",
        "                 header=0,\n",
        "                 parse_dates=['FECHA_ACTUALIZACION', 'FECHA_INGRESO', 'FECHA_SINTOMAS', 'FECHA_DEF'])"
      ]
    },
    {
      "cell_type": "code",
      "execution_count": null,
      "metadata": {
        "colab": {
          "base_uri": "https://localhost:8080/"
        },
        "id": "fNKeo9DnJDu_",
        "outputId": "c6dcf9f3-a4e9-4454-92ff-d1c3f96bd593"
      },
      "outputs": [
        {
          "data": {
            "text/plain": [
              "Index(['FECHA_ACTUALIZACION', 'ID_REGISTRO', 'ORIGEN', 'SECTOR', 'ENTIDAD_UM',\n",
              "       'SEXO', 'ENTIDAD_NAC', 'ENTIDAD_RES', 'MUNICIPIO_RES', 'TIPO_PACIENTE',\n",
              "       'FECHA_INGRESO', 'FECHA_SINTOMAS', 'FECHA_DEF', 'INTUBADO', 'NEUMONIA',\n",
              "       'EDAD', 'NACIONALIDAD', 'EMBARAZO', 'HABLA_LENGUA_INDIG', 'INDIGENA',\n",
              "       'DIABETES', 'EPOC', 'ASMA', 'INMUSUPR', 'HIPERTENSION', 'OTRA_COM',\n",
              "       'CARDIOVASCULAR', 'OBESIDAD', 'RENAL_CRONICA', 'TABAQUISMO',\n",
              "       'OTRO_CASO', 'TOMA_MUESTRA_LAB', 'RESULTADO_LAB',\n",
              "       'TOMA_MUESTRA_ANTIGENO', 'RESULTADO_ANTIGENO', 'CLASIFICACION_FINAL',\n",
              "       'MIGRANTE', 'PAIS_NACIONALIDAD', 'PAIS_ORIGEN', 'UCI'],\n",
              "      dtype='object')"
            ]
          },
          "execution_count": 5,
          "metadata": {},
          "output_type": "execute_result"
        }
      ],
      "source": [
        "df.columns"
      ]
    },
    {
      "cell_type": "code",
      "execution_count": null,
      "metadata": {
        "colab": {
          "base_uri": "https://localhost:8080/"
        },
        "id": "1hVEGl8fV-sY",
        "outputId": "9116e149-ec3b-4ef2-ebf0-ac29acafb8a9"
      },
      "outputs": [
        {
          "data": {
            "text/plain": [
              "(11808599, 40)"
            ]
          },
          "execution_count": 6,
          "metadata": {},
          "output_type": "execute_result"
        }
      ],
      "source": [
        "df.shape"
      ]
    },
    {
      "cell_type": "code",
      "execution_count": null,
      "metadata": {
        "colab": {
          "base_uri": "https://localhost:8080/",
          "height": 312
        },
        "id": "Rjbb-qRZWpIZ",
        "outputId": "194d29d4-8532-48f6-a7ea-14462b06b392"
      },
      "outputs": [
        {
          "data": {
            "text/html": [
              "<div>\n",
              "<style scoped>\n",
              "    .dataframe tbody tr th:only-of-type {\n",
              "        vertical-align: middle;\n",
              "    }\n",
              "\n",
              "    .dataframe tbody tr th {\n",
              "        vertical-align: top;\n",
              "    }\n",
              "\n",
              "    .dataframe thead th {\n",
              "        text-align: right;\n",
              "    }\n",
              "</style>\n",
              "<table border=\"1\" class=\"dataframe\">\n",
              "  <thead>\n",
              "    <tr style=\"text-align: right;\">\n",
              "      <th></th>\n",
              "      <th>FECHA_ACTUALIZACION</th>\n",
              "      <th>ID_REGISTRO</th>\n",
              "      <th>ORIGEN</th>\n",
              "      <th>SECTOR</th>\n",
              "      <th>ENTIDAD_UM</th>\n",
              "      <th>SEXO</th>\n",
              "      <th>ENTIDAD_NAC</th>\n",
              "      <th>ENTIDAD_RES</th>\n",
              "      <th>MUNICIPIO_RES</th>\n",
              "      <th>TIPO_PACIENTE</th>\n",
              "      <th>...</th>\n",
              "      <th>OTRO_CASO</th>\n",
              "      <th>TOMA_MUESTRA_LAB</th>\n",
              "      <th>RESULTADO_LAB</th>\n",
              "      <th>TOMA_MUESTRA_ANTIGENO</th>\n",
              "      <th>RESULTADO_ANTIGENO</th>\n",
              "      <th>CLASIFICACION_FINAL</th>\n",
              "      <th>MIGRANTE</th>\n",
              "      <th>PAIS_NACIONALIDAD</th>\n",
              "      <th>PAIS_ORIGEN</th>\n",
              "      <th>UCI</th>\n",
              "    </tr>\n",
              "  </thead>\n",
              "  <tbody>\n",
              "    <tr>\n",
              "      <th>0</th>\n",
              "      <td>2021-11-26</td>\n",
              "      <td>z4e838</td>\n",
              "      <td>1</td>\n",
              "      <td>12</td>\n",
              "      <td>9</td>\n",
              "      <td>2</td>\n",
              "      <td>15</td>\n",
              "      <td>15</td>\n",
              "      <td>95</td>\n",
              "      <td>2</td>\n",
              "      <td>...</td>\n",
              "      <td>99</td>\n",
              "      <td>1</td>\n",
              "      <td>2</td>\n",
              "      <td>2</td>\n",
              "      <td>97</td>\n",
              "      <td>7</td>\n",
              "      <td>99</td>\n",
              "      <td>México</td>\n",
              "      <td>97</td>\n",
              "      <td>2</td>\n",
              "    </tr>\n",
              "    <tr>\n",
              "      <th>1</th>\n",
              "      <td>2021-11-26</td>\n",
              "      <td>z2b144</td>\n",
              "      <td>2</td>\n",
              "      <td>12</td>\n",
              "      <td>9</td>\n",
              "      <td>1</td>\n",
              "      <td>15</td>\n",
              "      <td>9</td>\n",
              "      <td>2</td>\n",
              "      <td>1</td>\n",
              "      <td>...</td>\n",
              "      <td>1</td>\n",
              "      <td>1</td>\n",
              "      <td>4</td>\n",
              "      <td>2</td>\n",
              "      <td>97</td>\n",
              "      <td>5</td>\n",
              "      <td>99</td>\n",
              "      <td>México</td>\n",
              "      <td>97</td>\n",
              "      <td>97</td>\n",
              "    </tr>\n",
              "    <tr>\n",
              "      <th>2</th>\n",
              "      <td>2021-11-26</td>\n",
              "      <td>zz7202</td>\n",
              "      <td>1</td>\n",
              "      <td>12</td>\n",
              "      <td>16</td>\n",
              "      <td>2</td>\n",
              "      <td>16</td>\n",
              "      <td>16</td>\n",
              "      <td>112</td>\n",
              "      <td>1</td>\n",
              "      <td>...</td>\n",
              "      <td>1</td>\n",
              "      <td>1</td>\n",
              "      <td>2</td>\n",
              "      <td>2</td>\n",
              "      <td>97</td>\n",
              "      <td>7</td>\n",
              "      <td>99</td>\n",
              "      <td>México</td>\n",
              "      <td>97</td>\n",
              "      <td>97</td>\n",
              "    </tr>\n",
              "    <tr>\n",
              "      <th>3</th>\n",
              "      <td>2021-11-26</td>\n",
              "      <td>z58ed3</td>\n",
              "      <td>2</td>\n",
              "      <td>12</td>\n",
              "      <td>18</td>\n",
              "      <td>1</td>\n",
              "      <td>18</td>\n",
              "      <td>18</td>\n",
              "      <td>17</td>\n",
              "      <td>1</td>\n",
              "      <td>...</td>\n",
              "      <td>2</td>\n",
              "      <td>1</td>\n",
              "      <td>2</td>\n",
              "      <td>2</td>\n",
              "      <td>97</td>\n",
              "      <td>7</td>\n",
              "      <td>99</td>\n",
              "      <td>México</td>\n",
              "      <td>97</td>\n",
              "      <td>97</td>\n",
              "    </tr>\n",
              "    <tr>\n",
              "      <th>4</th>\n",
              "      <td>2021-11-26</td>\n",
              "      <td>z3be8c</td>\n",
              "      <td>2</td>\n",
              "      <td>12</td>\n",
              "      <td>7</td>\n",
              "      <td>1</td>\n",
              "      <td>7</td>\n",
              "      <td>7</td>\n",
              "      <td>101</td>\n",
              "      <td>1</td>\n",
              "      <td>...</td>\n",
              "      <td>2</td>\n",
              "      <td>1</td>\n",
              "      <td>2</td>\n",
              "      <td>2</td>\n",
              "      <td>97</td>\n",
              "      <td>7</td>\n",
              "      <td>99</td>\n",
              "      <td>México</td>\n",
              "      <td>97</td>\n",
              "      <td>97</td>\n",
              "    </tr>\n",
              "  </tbody>\n",
              "</table>\n",
              "<p>5 rows × 40 columns</p>\n",
              "</div>"
            ],
            "text/plain": [
              "  FECHA_ACTUALIZACION ID_REGISTRO  ORIGEN  SECTOR  ENTIDAD_UM  SEXO  \\\n",
              "0          2021-11-26      z4e838       1      12           9     2   \n",
              "1          2021-11-26      z2b144       2      12           9     1   \n",
              "2          2021-11-26      zz7202       1      12          16     2   \n",
              "3          2021-11-26      z58ed3       2      12          18     1   \n",
              "4          2021-11-26      z3be8c       2      12           7     1   \n",
              "\n",
              "   ENTIDAD_NAC  ENTIDAD_RES  MUNICIPIO_RES  TIPO_PACIENTE  ... OTRO_CASO  \\\n",
              "0           15           15             95              2  ...        99   \n",
              "1           15            9              2              1  ...         1   \n",
              "2           16           16            112              1  ...         1   \n",
              "3           18           18             17              1  ...         2   \n",
              "4            7            7            101              1  ...         2   \n",
              "\n",
              "  TOMA_MUESTRA_LAB RESULTADO_LAB  TOMA_MUESTRA_ANTIGENO  RESULTADO_ANTIGENO  \\\n",
              "0                1             2                      2                  97   \n",
              "1                1             4                      2                  97   \n",
              "2                1             2                      2                  97   \n",
              "3                1             2                      2                  97   \n",
              "4                1             2                      2                  97   \n",
              "\n",
              "   CLASIFICACION_FINAL  MIGRANTE  PAIS_NACIONALIDAD  PAIS_ORIGEN  UCI  \n",
              "0                    7        99             México           97    2  \n",
              "1                    5        99             México           97   97  \n",
              "2                    7        99             México           97   97  \n",
              "3                    7        99             México           97   97  \n",
              "4                    7        99             México           97   97  \n",
              "\n",
              "[5 rows x 40 columns]"
            ]
          },
          "execution_count": 7,
          "metadata": {},
          "output_type": "execute_result"
        }
      ],
      "source": [
        "df.head()"
      ]
    },
    {
      "cell_type": "code",
      "execution_count": null,
      "metadata": {
        "colab": {
          "base_uri": "https://localhost:8080/"
        },
        "id": "zgAcl1kYqSM2",
        "outputId": "19af10be-bc58-4bfb-c186-8bf4f00a9446"
      },
      "outputs": [
        {
          "data": {
            "text/plain": [
              "FECHA_ACTUALIZACION      object\n",
              "ID_REGISTRO              object\n",
              "ORIGEN                    int64\n",
              "SECTOR                    int64\n",
              "ENTIDAD_UM                int64\n",
              "SEXO                      int64\n",
              "ENTIDAD_NAC               int64\n",
              "ENTIDAD_RES               int64\n",
              "MUNICIPIO_RES             int64\n",
              "TIPO_PACIENTE             int64\n",
              "FECHA_INGRESO            object\n",
              "FECHA_SINTOMAS           object\n",
              "FECHA_DEF                object\n",
              "INTUBADO                  int64\n",
              "NEUMONIA                  int64\n",
              "EDAD                      int64\n",
              "NACIONALIDAD              int64\n",
              "EMBARAZO                  int64\n",
              "HABLA_LENGUA_INDIG        int64\n",
              "INDIGENA                  int64\n",
              "DIABETES                  int64\n",
              "EPOC                      int64\n",
              "ASMA                      int64\n",
              "INMUSUPR                  int64\n",
              "HIPERTENSION              int64\n",
              "OTRA_COM                  int64\n",
              "CARDIOVASCULAR            int64\n",
              "OBESIDAD                  int64\n",
              "RENAL_CRONICA             int64\n",
              "TABAQUISMO                int64\n",
              "OTRO_CASO                 int64\n",
              "TOMA_MUESTRA_LAB          int64\n",
              "RESULTADO_LAB             int64\n",
              "TOMA_MUESTRA_ANTIGENO     int64\n",
              "RESULTADO_ANTIGENO        int64\n",
              "CLASIFICACION_FINAL       int64\n",
              "MIGRANTE                  int64\n",
              "PAIS_NACIONALIDAD        object\n",
              "PAIS_ORIGEN              object\n",
              "UCI                       int64\n",
              "dtype: object"
            ]
          },
          "execution_count": 8,
          "metadata": {},
          "output_type": "execute_result"
        }
      ],
      "source": [
        "df.dtypes"
      ]
    },
    {
      "cell_type": "code",
      "execution_count": null,
      "metadata": {
        "colab": {
          "base_uri": "https://localhost:8080/"
        },
        "id": "3tF3G2xup3iQ",
        "outputId": "346de028-4608-4472-bd4f-6720c8f45d54"
      },
      "outputs": [
        {
          "data": {
            "text/plain": [
              "array(['2021-11-26'], dtype=object)"
            ]
          },
          "execution_count": 9,
          "metadata": {},
          "output_type": "execute_result"
        }
      ],
      "source": [
        "df.FECHA_ACTUALIZACION.unique()"
      ]
    },
    {
      "cell_type": "code",
      "execution_count": null,
      "metadata": {
        "colab": {
          "base_uri": "https://localhost:8080/"
        },
        "id": "Hh56EyK1p_Ui",
        "outputId": "88e0a62e-6b19-4823-e12a-2dececa2a910"
      },
      "outputs": [
        {
          "data": {
            "text/plain": [
              "array([1, 2], dtype=int64)"
            ]
          },
          "execution_count": 10,
          "metadata": {},
          "output_type": "execute_result"
        }
      ],
      "source": [
        "df.ORIGEN.unique()"
      ]
    },
    {
      "cell_type": "code",
      "execution_count": null,
      "metadata": {
        "id": "_Ab6D5_NNJzs"
      },
      "outputs": [],
      "source": [
        "df['ORIGEN'] = df['ORIGEN'].replace({1: 'USMER',\n",
        "                                     2: 'FUERA DE USMER'})"
      ]
    },
    {
      "cell_type": "code",
      "execution_count": null,
      "metadata": {
        "colab": {
          "base_uri": "https://localhost:8080/"
        },
        "id": "zOCzwjPiukIu",
        "outputId": "2cc765a7-fb70-4ace-9938-f2f73dee88b1"
      },
      "outputs": [
        {
          "data": {
            "text/plain": [
              "array([12, 13,  6,  3,  8,  9,  4,  5,  2, 11, 10,  7,  1, 99, 14],\n",
              "      dtype=int64)"
            ]
          },
          "execution_count": 12,
          "metadata": {},
          "output_type": "execute_result"
        }
      ],
      "source": [
        "df.SECTOR.unique()"
      ]
    },
    {
      "cell_type": "code",
      "execution_count": null,
      "metadata": {
        "id": "_ovmjUdkudi5"
      },
      "outputs": [],
      "source": [
        "df['SECTOR'] = df['SECTOR'].replace({1: 'CRUZ ROJA',\n",
        "                                     2: 'DIF',\n",
        "                                     3: 'ESTATAL',\n",
        "                                     4: 'IMSS',\n",
        "                                     5: 'IMSS-BIENESTAR',\n",
        "                                     6: 'ISSTE',\n",
        "                                     7: 'MUNICIPAL',\n",
        "                                     8: 'PEMNEX',\n",
        "                                     9: 'PRIVADA',\n",
        "                                     10: 'SEDENA',\n",
        "                                     11: 'SEMAR',\n",
        "                                     12: 'SSA',\n",
        "                                     13: 'UNIVERSITARIO',\n",
        "                                     14: 'NO ESPECIFICADO',\n",
        "                                     99: 'NO ESPECIFICADO'})"
      ]
    },
    {
      "cell_type": "code",
      "execution_count": null,
      "metadata": {
        "colab": {
          "base_uri": "https://localhost:8080/"
        },
        "id": "fFygM0qo0AaT",
        "outputId": "7f856efd-2a69-4c46-f19c-32970dff08b7"
      },
      "outputs": [
        {
          "data": {
            "text/plain": [
              "array([ 9, 16, 18,  7, 19, 13, 29, 27, 31, 12, 22,  2, 26, 32,  1,  4,  8,\n",
              "       23, 24, 15, 14,  5, 17, 10,  3, 21, 30, 20, 28,  6, 11, 25],\n",
              "      dtype=int64)"
            ]
          },
          "execution_count": 14,
          "metadata": {},
          "output_type": "execute_result"
        }
      ],
      "source": [
        "df.ENTIDAD_UM.unique()"
      ]
    },
    {
      "cell_type": "code",
      "execution_count": null,
      "metadata": {
        "id": "_-Y1Rgq10Euh"
      },
      "outputs": [],
      "source": [
        "df['ENTIDAD_UM'] = df['ENTIDAD_UM'].replace({1: 'AGUASCALIENTES',\n",
        "                                             2: 'BAJA CALIFORNIA',\n",
        "                                             3: 'BAJA CALIFORNIA SUR',\n",
        "                                             4: 'CAMPECHE',\n",
        "                                             5: 'COAHUILA DE ZARAGOZA',\n",
        "                                             6: 'COLIMA',\n",
        "                                             7: 'CHIAPAS',\n",
        "                                             8: 'CHIHUAHUA',\n",
        "                                             9: 'CIUDAD DE MÉXICO',\n",
        "                                             10: 'DURANGO',\n",
        "                                             11: 'GUANAJUATO',\n",
        "                                             12: 'GUERRERO',\n",
        "                                             13: 'HIDALGO',\n",
        "                                             14: 'JALISCO',\n",
        "                                             15: 'MÉXICO',\n",
        "                                             16: 'MICHOACÁN DE OCAMPO',\n",
        "                                             17: 'MORELOS',\n",
        "                                             18: 'NAYARIT',\n",
        "                                             19: 'NUEVO LEÓN',\n",
        "                                             20: 'OAXACA',\n",
        "                                             21: 'PUEBLA',\n",
        "                                             22: 'QUERÉTARO',\n",
        "                                             23: 'QUINTANA ROO',\n",
        "                                             24: 'SAN LUIS POTOSÍ',\n",
        "                                             25: 'SINALOA',\n",
        "                                             26: 'SONORA',\n",
        "                                             27: 'TABASCO',\n",
        "                                             28: 'TAMAULIPAS',\n",
        "                                             29: 'TLAXCALA',\n",
        "                                             30: 'VERACRUZ DE IGNACIO DE LA LLAVE',\n",
        "                                             31: 'YUCATÁN',\n",
        "                                             32: 'ZACATECAS',\n",
        "                                             36: 'ESTADOS UNIDOS MEXICANOS',\n",
        "                                             97: 'NO APLICA',\n",
        "                                             98:'SE IGNORA',\n",
        "                                             99: 'NO ESPECIFICADO'})"
      ]
    },
    {
      "cell_type": "code",
      "execution_count": null,
      "metadata": {
        "colab": {
          "base_uri": "https://localhost:8080/"
        },
        "id": "u-7l48MG3Bdk",
        "outputId": "99a0875d-2085-40c2-cd3c-845b3b54f110"
      },
      "outputs": [
        {
          "data": {
            "text/plain": [
              "array([2, 1], dtype=int64)"
            ]
          },
          "execution_count": 16,
          "metadata": {},
          "output_type": "execute_result"
        }
      ],
      "source": [
        "df.SEXO.unique()"
      ]
    },
    {
      "cell_type": "code",
      "execution_count": null,
      "metadata": {
        "id": "nCvD6lMi3G9t"
      },
      "outputs": [],
      "source": [
        "df['SEXO'] = df['SEXO'].replace({1: 'MUJER',\n",
        "                                 2: 'HOMBRE',\n",
        "                                 3: 'NO ESPECIFICADO'})"
      ]
    },
    {
      "cell_type": "code",
      "execution_count": null,
      "metadata": {
        "colab": {
          "base_uri": "https://localhost:8080/"
        },
        "id": "Hdrp-3P73gfY",
        "outputId": "591f0c01-7063-44d9-8978-c28b221cc56c"
      },
      "outputs": [
        {
          "data": {
            "text/plain": [
              "array([15, 16, 18,  7,  9, 19, 28, 29, 27, 31, 12,  2, 26, 32, 14, 21,  4,\n",
              "        8,  1, 24, 23, 10,  5, 17,  3, 30, 25, 22,  6, 11, 13, 20, 99],\n",
              "      dtype=int64)"
            ]
          },
          "execution_count": 18,
          "metadata": {},
          "output_type": "execute_result"
        }
      ],
      "source": [
        "df.ENTIDAD_NAC.unique()"
      ]
    },
    {
      "cell_type": "code",
      "execution_count": null,
      "metadata": {
        "id": "qww4evnn3eMY"
      },
      "outputs": [],
      "source": [
        "df['ENTIDAD_RES'] = df['ENTIDAD_RES'].replace({1: 'AGUASCALIENTES',\n",
        "                                               2: 'BAJA CALIFORNIA',\n",
        "                                               3: 'BAJA CALIFORNIA SUR',\n",
        "                                               4: 'CAMPECHE',\n",
        "                                               5: 'COAHUILA DE ZARAGOZA',\n",
        "                                               6: 'COLIMA',\n",
        "                                               7: 'CHIAPAS',\n",
        "                                               8: 'CHIHUAHUA',\n",
        "                                               9: 'CIUDAD DE MÉXICO',\n",
        "                                               10: 'DURANGO',\n",
        "                                               11: 'GUANAJUATO',\n",
        "                                               12: 'GUERRERO',\n",
        "                                               13: 'HIDALGO',\n",
        "                                               14: 'JALISCO',\n",
        "                                               15: 'MÉXICO',\n",
        "                                               16: 'MICHOACÁN DE OCAMPO',\n",
        "                                               17: 'MORELOS',\n",
        "                                               18: 'NAYARIT',\n",
        "                                               19: 'NUEVO LEÓN',\n",
        "                                               20: 'OAXACA',\n",
        "                                               21: 'PUEBLA',\n",
        "                                               22: 'QUERÉTARO',\n",
        "                                               23: 'QUINTANA ROO',\n",
        "                                               24: 'SAN LUIS POTOSÍ',\n",
        "                                               25: 'SINALOA',\n",
        "                                               26: 'SONORA',\n",
        "                                               27: 'TABASCO',\n",
        "                                               28: 'TAMAULIPAS',\n",
        "                                               29: 'TLAXCALA',\n",
        "                                               30: 'VERACRUZ DE IGNACIO DE LA LLAVE',\n",
        "                                               31: 'YUCATÁN',\n",
        "                                               32: 'ZACATECAS',\n",
        "                                               36: 'ESTADOS UNIDOS MEXICANOS',\n",
        "                                               97: 'NO APLICA',\n",
        "                                               98:'SE IGNORA',\n",
        "                                               99: 'NO ESPECIFICADO'})"
      ]
    },
    {
      "cell_type": "code",
      "execution_count": null,
      "metadata": {
        "colab": {
          "base_uri": "https://localhost:8080/"
        },
        "id": "CW6s8RgR4xgl",
        "outputId": "f4db23a3-1c48-4e7e-87d5-ec11751c475d"
      },
      "outputs": [
        {
          "data": {
            "text/plain": [
              "array([15, 16, 18,  7,  9, 19, 28, 29, 27, 31, 12,  2, 26, 32, 14, 21,  4,\n",
              "        8,  1, 24, 23, 10,  5, 17,  3, 30, 25, 22,  6, 11, 13, 20, 99],\n",
              "      dtype=int64)"
            ]
          },
          "execution_count": 20,
          "metadata": {},
          "output_type": "execute_result"
        }
      ],
      "source": [
        "df.ENTIDAD_NAC.unique()"
      ]
    },
    {
      "cell_type": "code",
      "execution_count": null,
      "metadata": {
        "id": "v8CJ2jtp4w3s"
      },
      "outputs": [],
      "source": [
        "df['ENTIDAD_NAC'] = df['ENTIDAD_NAC'].replace({1: 'AGUASCALIENTES',\n",
        "                                               2: 'BAJA CALIFORNIA',\n",
        "                                               3: 'BAJA CALIFORNIA SUR',\n",
        "                                               4: 'CAMPECHE',\n",
        "                                               5: 'COAHUILA DE ZARAGOZA',\n",
        "                                               6: 'COLIMA',\n",
        "                                               7: 'CHIAPAS',\n",
        "                                               8: 'CHIHUAHUA',\n",
        "                                               9: 'CIUDAD DE MÉXICO',\n",
        "                                               10: 'DURANGO',\n",
        "                                               11: 'GUANAJUATO',\n",
        "                                               12: 'GUERRERO',\n",
        "                                               13: 'HIDALGO',\n",
        "                                               14: 'JALISCO',\n",
        "                                               15: 'MÉXICO',\n",
        "                                               16: 'MICHOACÁN DE OCAMPO',\n",
        "                                               17: 'MORELOS',\n",
        "                                               18: 'NAYARIT',\n",
        "                                               19: 'NUEVO LEÓN',\n",
        "                                               20: 'OAXACA',\n",
        "                                               21: 'PUEBLA',\n",
        "                                               22: 'QUERÉTARO',\n",
        "                                               23: 'QUINTANA ROO',\n",
        "                                               24: 'SAN LUIS POTOSÍ',\n",
        "                                               25: 'SINALOA',\n",
        "                                               26: 'SONORA',\n",
        "                                               27: 'TABASCO',\n",
        "                                               28: 'TAMAULIPAS',\n",
        "                                               29: 'TLAXCALA',\n",
        "                                               30: 'VERACRUZ DE IGNACIO DE LA LLAVE',\n",
        "                                               31: 'YUCATÁN',\n",
        "                                               32: 'ZACATECAS',\n",
        "                                               36: 'ESTADOS UNIDOS MEXICANOS',\n",
        "                                               97: 'NO APLICA',\n",
        "                                               98:'SE IGNORA',\n",
        "                                               99: 'NO ESPECIFICADO'})"
      ]
    },
    {
      "cell_type": "code",
      "execution_count": null,
      "metadata": {
        "colab": {
          "base_uri": "https://localhost:8080/"
        },
        "id": "z0HRgKk0rEX9",
        "outputId": "a34fe0ea-c98a-483e-83b2-9ab107c79151"
      },
      "outputs": [
        {
          "data": {
            "text/plain": [
              "array([2, 1], dtype=int64)"
            ]
          },
          "execution_count": 22,
          "metadata": {},
          "output_type": "execute_result"
        }
      ],
      "source": [
        "df.TIPO_PACIENTE.unique()"
      ]
    },
    {
      "cell_type": "code",
      "execution_count": null,
      "metadata": {
        "id": "GM3JTP-9sMMK"
      },
      "outputs": [],
      "source": [
        "df['TIPO_PACIENTE'] = df['TIPO_PACIENTE'].replace({1: 'AMBULATORIO',\n",
        "                                                   2: 'HOSPITALIZADO',\n",
        "                                                   3: 'NO ESPECIFICADO'})"
      ]
    },
    {
      "cell_type": "code",
      "execution_count": null,
      "metadata": {
        "colab": {
          "base_uri": "https://localhost:8080/"
        },
        "id": "fm7akWJNrrHM",
        "outputId": "bb0169af-3943-4d2b-c7d3-df7e6880a62a"
      },
      "outputs": [
        {
          "data": {
            "text/plain": [
              "array([ 1, 97,  2, 99], dtype=int64)"
            ]
          },
          "execution_count": 24,
          "metadata": {},
          "output_type": "execute_result"
        }
      ],
      "source": [
        "df.INTUBADO.unique()"
      ]
    },
    {
      "cell_type": "code",
      "execution_count": null,
      "metadata": {
        "id": "PjscbNd5rrey"
      },
      "outputs": [],
      "source": [
        "df['INTUBADO'] = df['INTUBADO'].replace({1: 'SI',\n",
        "                                         2: 'NO',\n",
        "                                         97: 'NO APLICA',\n",
        "                                         99:'NO ESPECIFICADO'})"
      ]
    },
    {
      "cell_type": "code",
      "execution_count": null,
      "metadata": {
        "colab": {
          "base_uri": "https://localhost:8080/"
        },
        "id": "ejL2HkaJrr0s",
        "outputId": "67249c62-93ca-4228-e34c-40ec69f71616"
      },
      "outputs": [
        {
          "data": {
            "text/plain": [
              "array([ 1,  2, 99], dtype=int64)"
            ]
          },
          "execution_count": 26,
          "metadata": {},
          "output_type": "execute_result"
        }
      ],
      "source": [
        "df.NEUMONIA.unique()"
      ]
    },
    {
      "cell_type": "code",
      "execution_count": null,
      "metadata": {
        "id": "LcGvyDz5rsM0"
      },
      "outputs": [],
      "source": [
        "df['NEUMONIA'] = df['INTUBADO'].replace({1: 'SI',\n",
        "                                         2: 'NO',\n",
        "                                         99:'NO ESPECIFICADO'})"
      ]
    },
    {
      "cell_type": "code",
      "execution_count": null,
      "metadata": {
        "colab": {
          "base_uri": "https://localhost:8080/"
        },
        "id": "Buz4RrzWrz7r",
        "outputId": "684c3e29-a9f9-45b2-ab7f-275b39dcf75d"
      },
      "outputs": [
        {
          "data": {
            "text/plain": [
              "array([1, 2], dtype=int64)"
            ]
          },
          "execution_count": 28,
          "metadata": {},
          "output_type": "execute_result"
        }
      ],
      "source": [
        "df.NACIONALIDAD.unique()"
      ]
    },
    {
      "cell_type": "code",
      "execution_count": null,
      "metadata": {
        "id": "LZ-rnvUNDWgK"
      },
      "outputs": [],
      "source": [
        "df['NACIONALIDAD'] = df['NACIONALIDAD'].replace({1: 'MEXICANA',\n",
        "                                                 2: 'EXTRANJERO',\n",
        "                                                 99:'NO ESPECIFICADO'})"
      ]
    },
    {
      "cell_type": "code",
      "execution_count": null,
      "metadata": {
        "colab": {
          "base_uri": "https://localhost:8080/"
        },
        "id": "AkQB14b7bVY5",
        "outputId": "c016e71a-56b9-4f8e-9579-1faeeec0d535"
      },
      "outputs": [
        {
          "data": {
            "text/plain": [
              "array([97,  2,  1, 98, 99], dtype=int64)"
            ]
          },
          "execution_count": 30,
          "metadata": {},
          "output_type": "execute_result"
        }
      ],
      "source": [
        "df.EMBARAZO.unique()"
      ]
    },
    {
      "cell_type": "code",
      "execution_count": null,
      "metadata": {
        "id": "jiT00SaibWF7"
      },
      "outputs": [],
      "source": [
        "df['EMBARAZO'] = df['EMBARAZO'].replace({1: 'SI',\n",
        "                                         2: 'NO',\n",
        "                                         97:'NO APLICA',\n",
        "                                         98:'SE IGNORA',\n",
        "                                         99:'NO ESPECIFICADO'})"
      ]
    },
    {
      "cell_type": "code",
      "execution_count": null,
      "metadata": {
        "colab": {
          "base_uri": "https://localhost:8080/"
        },
        "id": "NfzCd3pNbW3j",
        "outputId": "fba0c778-e7e8-4b51-9682-d7c6289039d3"
      },
      "outputs": [
        {
          "data": {
            "text/plain": [
              "array([ 2, 99,  1], dtype=int64)"
            ]
          },
          "execution_count": 32,
          "metadata": {},
          "output_type": "execute_result"
        }
      ],
      "source": [
        "df.HABLA_LENGUA_INDIG.unique()"
      ]
    },
    {
      "cell_type": "code",
      "execution_count": null,
      "metadata": {
        "id": "koezvCIzdgVz"
      },
      "outputs": [],
      "source": [
        "df['HABLA_LENGUA_INDIG'] = df['HABLA_LENGUA_INDIG'].replace({1: 'SI',\n",
        "                                                             2: 'NO',\n",
        "                                                             99:'NO ESPECIFICADO'})"
      ]
    },
    {
      "cell_type": "code",
      "execution_count": null,
      "metadata": {
        "colab": {
          "base_uri": "https://localhost:8080/"
        },
        "id": "Z-6EYl-fbb08",
        "outputId": "41a54cb3-c6d3-4fd7-90c1-f6bdf073fa3b"
      },
      "outputs": [
        {
          "data": {
            "text/plain": [
              "array([ 2, 99,  1], dtype=int64)"
            ]
          },
          "execution_count": 34,
          "metadata": {},
          "output_type": "execute_result"
        }
      ],
      "source": [
        "df.INDIGENA.unique()"
      ]
    },
    {
      "cell_type": "code",
      "execution_count": null,
      "metadata": {
        "id": "QyGBLG5VdlFX"
      },
      "outputs": [],
      "source": [
        "df['INDIGENA'] = df['INDIGENA'].replace({1: 'SI',\n",
        "                                         2: 'NO',\n",
        "                                         99:'NO ESPECIFICADO'})"
      ]
    },
    {
      "cell_type": "code",
      "execution_count": null,
      "metadata": {
        "colab": {
          "base_uri": "https://localhost:8080/"
        },
        "id": "U7oamYXubcip",
        "outputId": "c057d4f8-6903-4885-d974-4cff524be12d"
      },
      "outputs": [
        {
          "data": {
            "text/plain": [
              "array([ 2,  1, 98], dtype=int64)"
            ]
          },
          "execution_count": 36,
          "metadata": {},
          "output_type": "execute_result"
        }
      ],
      "source": [
        "df.DIABETES.unique()"
      ]
    },
    {
      "cell_type": "code",
      "execution_count": null,
      "metadata": {
        "id": "-PcpSi_-gV7g"
      },
      "outputs": [],
      "source": [
        "df['DIABETES'] = df['DIABETES'].replace({1: 'SI',\n",
        "                                         2: 'NO',\n",
        "                                         98:'SE IGNORA'})"
      ]
    },
    {
      "cell_type": "code",
      "execution_count": null,
      "metadata": {
        "colab": {
          "base_uri": "https://localhost:8080/"
        },
        "id": "i9Gc5HtybdPd",
        "outputId": "9ce7c449-b572-4466-80e1-ea11c82aeccb"
      },
      "outputs": [
        {
          "data": {
            "text/plain": [
              "array([ 2,  1, 98], dtype=int64)"
            ]
          },
          "execution_count": 38,
          "metadata": {},
          "output_type": "execute_result"
        }
      ],
      "source": [
        "df.EPOC.unique()"
      ]
    },
    {
      "cell_type": "code",
      "execution_count": null,
      "metadata": {
        "id": "DSvpULVagsxH"
      },
      "outputs": [],
      "source": [
        "df['EPOC'] = df['EPOC'].replace({1: 'SI',\n",
        "                                 2: 'NO',\n",
        "                                 98:'SE IGNORA'})"
      ]
    },
    {
      "cell_type": "code",
      "execution_count": null,
      "metadata": {
        "colab": {
          "base_uri": "https://localhost:8080/"
        },
        "id": "71qyWq1JoI_y",
        "outputId": "b0095bc6-bdd0-42b8-8465-7d3d77de665b"
      },
      "outputs": [
        {
          "data": {
            "text/plain": [
              "array([ 2,  1, 98], dtype=int64)"
            ]
          },
          "execution_count": 40,
          "metadata": {},
          "output_type": "execute_result"
        }
      ],
      "source": [
        "df.ASMA.unique()"
      ]
    },
    {
      "cell_type": "code",
      "execution_count": null,
      "metadata": {
        "id": "iz055VIGMpF8"
      },
      "outputs": [],
      "source": [
        "df['ASMA']=df['ASMA'].replace({1: 'SI',\n",
        "                               2: 'NO',\n",
        "                               98:'SE IGNORA'})"
      ]
    },
    {
      "cell_type": "code",
      "execution_count": null,
      "metadata": {
        "colab": {
          "base_uri": "https://localhost:8080/"
        },
        "id": "rLy-3RCkTP_y",
        "outputId": "70e1367e-baf3-46bd-aa24-6fc6b399802e"
      },
      "outputs": [
        {
          "data": {
            "text/plain": [
              "array([ 2, 98,  1], dtype=int64)"
            ]
          },
          "execution_count": 42,
          "metadata": {},
          "output_type": "execute_result"
        }
      ],
      "source": [
        "df.INMUSUPR.unique()"
      ]
    },
    {
      "cell_type": "code",
      "execution_count": null,
      "metadata": {
        "id": "UZlBygf9UrMj"
      },
      "outputs": [],
      "source": [
        "df['INMUSUPR']=df['INMUSUPR'].replace({1: 'SI',\n",
        "                                       2: 'NO',\n",
        "                                       98:'SE IGNORA'})"
      ]
    },
    {
      "cell_type": "code",
      "execution_count": null,
      "metadata": {
        "colab": {
          "base_uri": "https://localhost:8080/"
        },
        "id": "9a6bFh8rVfaT",
        "outputId": "be531b15-2802-480d-cd93-85a6286ad8fb"
      },
      "outputs": [
        {
          "data": {
            "text/plain": [
              "array([ 2,  1, 98], dtype=int64)"
            ]
          },
          "execution_count": 44,
          "metadata": {},
          "output_type": "execute_result"
        }
      ],
      "source": [
        "df.HIPERTENSION.unique()"
      ]
    },
    {
      "cell_type": "code",
      "execution_count": null,
      "metadata": {
        "id": "sQ4Ed9kUV3XA"
      },
      "outputs": [],
      "source": [
        "df['HIPERTENSION']=df['HIPERTENSION'].replace({1: 'SI',\n",
        "                                               2: 'NO',\n",
        "                                               98: 'SE IGNORA'})"
      ]
    },
    {
      "cell_type": "code",
      "execution_count": null,
      "metadata": {
        "colab": {
          "base_uri": "https://localhost:8080/"
        },
        "id": "d1GgqVF3W-6m",
        "outputId": "830599f6-9248-4993-ecbd-6b3802db73be"
      },
      "outputs": [
        {
          "data": {
            "text/plain": [
              "array([ 2,  1, 98], dtype=int64)"
            ]
          },
          "execution_count": 46,
          "metadata": {},
          "output_type": "execute_result"
        }
      ],
      "source": [
        "df.OTRA_COM.unique()"
      ]
    },
    {
      "cell_type": "code",
      "execution_count": null,
      "metadata": {
        "id": "uV1LOec1Xh-T"
      },
      "outputs": [],
      "source": [
        "df['OTRA_COM']=df['OTRA_COM'].replace({1: 'SI',\n",
        "                                       2: 'NO',\n",
        "                                       98: 'SE IGNORA'})"
      ]
    },
    {
      "cell_type": "code",
      "execution_count": null,
      "metadata": {
        "colab": {
          "base_uri": "https://localhost:8080/"
        },
        "id": "764GJBo_Xv0G",
        "outputId": "4d55da6b-7381-436b-aeb5-2bf0ae86b45c"
      },
      "outputs": [
        {
          "data": {
            "text/plain": [
              "array([ 2, 98,  1], dtype=int64)"
            ]
          },
          "execution_count": 48,
          "metadata": {},
          "output_type": "execute_result"
        }
      ],
      "source": [
        "df.CARDIOVASCULAR.unique()"
      ]
    },
    {
      "cell_type": "code",
      "execution_count": null,
      "metadata": {
        "id": "_YqRy33GX3Xt"
      },
      "outputs": [],
      "source": [
        "df['CARDIOVASCULAR']=df['CARDIOVASCULAR'].replace({1: 'SI',\n",
        "                                                   2: 'NO',\n",
        "                                                   98: 'SE IGNORA'})"
      ]
    },
    {
      "cell_type": "code",
      "execution_count": null,
      "metadata": {
        "colab": {
          "base_uri": "https://localhost:8080/"
        },
        "id": "YJACmWDjcqkP",
        "outputId": "86da35af-4e60-4a51-9424-b004366a3b6b"
      },
      "outputs": [
        {
          "data": {
            "text/plain": [
              "array([ 2,  1, 98], dtype=int64)"
            ]
          },
          "execution_count": 50,
          "metadata": {},
          "output_type": "execute_result"
        }
      ],
      "source": [
        "df.OBESIDAD.unique()"
      ]
    },
    {
      "cell_type": "code",
      "execution_count": null,
      "metadata": {
        "id": "DkOtNp3NdnFO"
      },
      "outputs": [],
      "source": [
        "df['OBESIDAD'] = df['OBESIDAD'].replace({1: 'SI',\n",
        "                                         2: 'NO',\n",
        "                                         98:'SE IGNORA'})"
      ]
    },
    {
      "cell_type": "code",
      "execution_count": null,
      "metadata": {
        "colab": {
          "base_uri": "https://localhost:8080/"
        },
        "id": "pPdNVwIMeRPO",
        "outputId": "085a42af-6271-4ecf-da68-8d52e05b3c8e"
      },
      "outputs": [
        {
          "data": {
            "text/plain": [
              "array([ 2, 98,  1], dtype=int64)"
            ]
          },
          "execution_count": 52,
          "metadata": {},
          "output_type": "execute_result"
        }
      ],
      "source": [
        "df.RENAL_CRONICA.unique()"
      ]
    },
    {
      "cell_type": "code",
      "execution_count": null,
      "metadata": {
        "id": "CKXkPtmWeZAo"
      },
      "outputs": [],
      "source": [
        "df['RENAL_CRONICA'] = df['RENAL_CRONICA'].replace({1: 'SI',\n",
        "                                                   2: 'NO',\n",
        "                                                   98:'SE IGNORA'})"
      ]
    },
    {
      "cell_type": "code",
      "execution_count": null,
      "metadata": {
        "colab": {
          "base_uri": "https://localhost:8080/"
        },
        "id": "nn8vzq1Oeu2o",
        "outputId": "fb04d07b-2ed5-4557-d323-691369cb2a5d"
      },
      "outputs": [
        {
          "data": {
            "text/plain": [
              "array([ 1,  2, 98], dtype=int64)"
            ]
          },
          "execution_count": 54,
          "metadata": {},
          "output_type": "execute_result"
        }
      ],
      "source": [
        "df.TABAQUISMO.unique()"
      ]
    },
    {
      "cell_type": "code",
      "execution_count": null,
      "metadata": {
        "id": "N_6nHwsve2it"
      },
      "outputs": [],
      "source": [
        "df['TABAQUISMO'] = df['TABAQUISMO'].replace({1: 'SI',\n",
        "                                             2: 'NO',\n",
        "                                             98:'SE IGNORA'})"
      ]
    },
    {
      "cell_type": "code",
      "execution_count": null,
      "metadata": {
        "colab": {
          "base_uri": "https://localhost:8080/"
        },
        "id": "tlOITvpOfaWW",
        "outputId": "659e5775-45fc-4a6a-a9bf-b5dbd1347393"
      },
      "outputs": [
        {
          "data": {
            "text/plain": [
              "array([99,  1,  2], dtype=int64)"
            ]
          },
          "execution_count": 56,
          "metadata": {},
          "output_type": "execute_result"
        }
      ],
      "source": [
        "df.OTRO_CASO.unique()"
      ]
    },
    {
      "cell_type": "code",
      "execution_count": null,
      "metadata": {
        "id": "8A5ywRcffi1E"
      },
      "outputs": [],
      "source": [
        "df['OTRO_CASO'] = df['OTRO_CASO'].replace({1: 'SI',\n",
        "                                           2: 'NO',\n",
        "                                           99:'NO ESPECIFICADO'})"
      ]
    },
    {
      "cell_type": "code",
      "execution_count": null,
      "metadata": {
        "colab": {
          "base_uri": "https://localhost:8080/"
        },
        "id": "f8BNM6MNfuqF",
        "outputId": "4d028616-c6a0-4e66-bb30-00b32f8808f9"
      },
      "outputs": [
        {
          "data": {
            "text/plain": [
              "array([1, 2], dtype=int64)"
            ]
          },
          "execution_count": 58,
          "metadata": {},
          "output_type": "execute_result"
        }
      ],
      "source": [
        "df.TOMA_MUESTRA_LAB.unique()"
      ]
    },
    {
      "cell_type": "code",
      "execution_count": null,
      "metadata": {
        "id": "MXGg0y2Wf2Pl"
      },
      "outputs": [],
      "source": [
        "df['TOMA_MUESTRA_LAB'] = df['TOMA_MUESTRA_LAB'].replace({1: 'SI',\n",
        "                                                         2: 'NO'})"
      ]
    },
    {
      "cell_type": "code",
      "execution_count": null,
      "metadata": {
        "colab": {
          "base_uri": "https://localhost:8080/"
        },
        "id": "_8_MlarHgenr",
        "outputId": "4b96e44e-2416-436d-f37c-7ceee7e09977"
      },
      "outputs": [
        {
          "data": {
            "text/plain": [
              "array([ 2,  4, 97,  1,  3], dtype=int64)"
            ]
          },
          "execution_count": 60,
          "metadata": {},
          "output_type": "execute_result"
        }
      ],
      "source": [
        "df.RESULTADO_LAB.unique()"
      ]
    },
    {
      "cell_type": "code",
      "execution_count": null,
      "metadata": {
        "id": "XcNsr1y0glwj"
      },
      "outputs": [],
      "source": [
        "df['RESULTADO_LAB'] = df['RESULTADO_LAB'].replace({1: 'POSITIVO A SARS-COV-2',\n",
        "                                     2: 'NO POSITIVO A SARS-COV-2',\n",
        "                                     3:'RESULTADO PENDIENTE',\n",
        "                                     4:'RESULTADO NO ADECUADO',\n",
        "                                     97:'NO APLICA(CASO SIN MUESTRA)',})"
      ]
    },
    {
      "cell_type": "code",
      "execution_count": null,
      "metadata": {
        "colab": {
          "base_uri": "https://localhost:8080/"
        },
        "id": "vyeOVTtxb3it",
        "outputId": "31295c38-53ff-45f5-8ef8-013ab8613166"
      },
      "outputs": [
        {
          "data": {
            "text/plain": [
              "array([2, 1], dtype=int64)"
            ]
          },
          "execution_count": 62,
          "metadata": {},
          "output_type": "execute_result"
        }
      ],
      "source": [
        "df.TOMA_MUESTRA_ANTIGENO.unique()"
      ]
    },
    {
      "cell_type": "code",
      "execution_count": null,
      "metadata": {
        "id": "1iuHgyvRcylH"
      },
      "outputs": [],
      "source": [
        "df['TOMA_MUESTRA_ANTIGENO']=df['TOMA_MUESTRA_ANTIGENO'].replace({1: 'SI',\n",
        "                                                                 2: 'NO'})"
      ]
    },
    {
      "cell_type": "code",
      "execution_count": null,
      "metadata": {
        "colab": {
          "base_uri": "https://localhost:8080/"
        },
        "id": "giBCmdP3c_Vk",
        "outputId": "a6babcca-284f-479f-e37f-8d2386cb6972"
      },
      "outputs": [
        {
          "data": {
            "text/plain": [
              "array([97,  1,  2], dtype=int64)"
            ]
          },
          "execution_count": 64,
          "metadata": {},
          "output_type": "execute_result"
        }
      ],
      "source": [
        "df.RESULTADO_ANTIGENO.unique()"
      ]
    },
    {
      "cell_type": "code",
      "execution_count": null,
      "metadata": {
        "id": "npv1wpOidFNJ"
      },
      "outputs": [],
      "source": [
        "df['RESULTADO_ANTIGENO']=df['RESULTADO_ANTIGENO'].replace({1: 'POSITIVO A SARS-COV-2',\n",
        "                                                           2: 'NEGATIVO A SARS-COV-2',\n",
        "                                                           97: 'NO APLICA (CASO SIN MUESTRA)'})"
      ]
    },
    {
      "cell_type": "code",
      "execution_count": null,
      "metadata": {
        "colab": {
          "base_uri": "https://localhost:8080/"
        },
        "id": "u_NE4aWifEBJ",
        "outputId": "9dc94569-4bbb-4a6a-8bf4-3874b9219fcc"
      },
      "outputs": [
        {
          "data": {
            "text/plain": [
              "array([7, 5, 3, 6, 1, 2, 4], dtype=int64)"
            ]
          },
          "execution_count": 66,
          "metadata": {},
          "output_type": "execute_result"
        }
      ],
      "source": [
        "df.CLASIFICACION_FINAL.unique()"
      ]
    },
    {
      "cell_type": "code",
      "execution_count": null,
      "metadata": {
        "id": "6_uykI42fJkx"
      },
      "outputs": [],
      "source": [
        "df['CLASIFICACION_FINAL']=df['CLASIFICACION_FINAL'].replace({1: 'CASO DE COVID-19 CONFIRMADO POR ASOCIACIÓN CLÍNICA EPIDEMIOLÓGICA',\n",
        "                                                             2: 'CASO DE COVID-19 CONFIRMADO POR COMITÉ DE DICTAMINACIÓN',\n",
        "                                                             3: 'CASO DE SARS-COV-2 CONFIRMADO',\n",
        "                                                             4: 'INVÁLIDO POR LABORATORIO',\n",
        "                                                             5: 'NO REALIZADO POR LABORATORIO',\n",
        "                                                             6: 'CASO SOSPECHOSO',\n",
        "                                                             7: 'NEGATIVO A SARS-COV-2'})"
      ]
    },
    {
      "cell_type": "code",
      "execution_count": null,
      "metadata": {
        "colab": {
          "base_uri": "https://localhost:8080/"
        },
        "id": "4u6dsPUeg_TQ",
        "outputId": "eec6bee3-8248-43cf-abf6-ad2f44f4a292"
      },
      "outputs": [
        {
          "data": {
            "text/plain": [
              "array([99,  2,  1], dtype=int64)"
            ]
          },
          "execution_count": 68,
          "metadata": {},
          "output_type": "execute_result"
        }
      ],
      "source": [
        "df.MIGRANTE.unique()"
      ]
    },
    {
      "cell_type": "code",
      "execution_count": null,
      "metadata": {
        "id": "-kDywoaRkpKS"
      },
      "outputs": [],
      "source": [
        "df['MIGRANTE']=df['MIGRANTE'].replace({1: 'SI',\n",
        "                                       2: 'NO',\n",
        "                                       99: 'NO ESPECIFICADO'})"
      ]
    },
    {
      "cell_type": "code",
      "execution_count": null,
      "metadata": {
        "colab": {
          "base_uri": "https://localhost:8080/"
        },
        "id": "Rxk_QY3klbvk",
        "outputId": "ebe43d6a-49c4-4ca3-f672-8fb2a0b01ee5"
      },
      "outputs": [
        {
          "data": {
            "text/plain": [
              "array([ 2, 97,  1, 99], dtype=int64)"
            ]
          },
          "execution_count": 70,
          "metadata": {},
          "output_type": "execute_result"
        }
      ],
      "source": [
        "df.UCI.unique()"
      ]
    },
    {
      "cell_type": "code",
      "execution_count": null,
      "metadata": {
        "id": "HODxOsnllfAl"
      },
      "outputs": [],
      "source": [
        "df['UCI']=df['UCI'].replace({1: 'SI',\n",
        "                             2: 'NO',\n",
        "                             97: 'NO APLICA',\n",
        "                             99: 'NO ESPECIFICADO'})"
      ]
    },
    {
      "cell_type": "code",
      "execution_count": null,
      "metadata": {
        "colab": {
          "base_uri": "https://localhost:8080/",
          "height": 365
        },
        "id": "VzVbNx1eroiL",
        "outputId": "398140b9-3a30-4fdc-b0db-640b5e134df9"
      },
      "outputs": [
        {
          "data": {
            "text/html": [
              "<div>\n",
              "<style scoped>\n",
              "    .dataframe tbody tr th:only-of-type {\n",
              "        vertical-align: middle;\n",
              "    }\n",
              "\n",
              "    .dataframe tbody tr th {\n",
              "        vertical-align: top;\n",
              "    }\n",
              "\n",
              "    .dataframe thead th {\n",
              "        text-align: right;\n",
              "    }\n",
              "</style>\n",
              "<table border=\"1\" class=\"dataframe\">\n",
              "  <thead>\n",
              "    <tr style=\"text-align: right;\">\n",
              "      <th></th>\n",
              "      <th>FECHA_ACTUALIZACION</th>\n",
              "      <th>ID_REGISTRO</th>\n",
              "      <th>ORIGEN</th>\n",
              "      <th>SECTOR</th>\n",
              "      <th>ENTIDAD_UM</th>\n",
              "      <th>SEXO</th>\n",
              "      <th>ENTIDAD_NAC</th>\n",
              "      <th>ENTIDAD_RES</th>\n",
              "      <th>MUNICIPIO_RES</th>\n",
              "      <th>TIPO_PACIENTE</th>\n",
              "      <th>...</th>\n",
              "      <th>OTRO_CASO</th>\n",
              "      <th>TOMA_MUESTRA_LAB</th>\n",
              "      <th>RESULTADO_LAB</th>\n",
              "      <th>TOMA_MUESTRA_ANTIGENO</th>\n",
              "      <th>RESULTADO_ANTIGENO</th>\n",
              "      <th>CLASIFICACION_FINAL</th>\n",
              "      <th>MIGRANTE</th>\n",
              "      <th>PAIS_NACIONALIDAD</th>\n",
              "      <th>PAIS_ORIGEN</th>\n",
              "      <th>UCI</th>\n",
              "    </tr>\n",
              "  </thead>\n",
              "  <tbody>\n",
              "    <tr>\n",
              "      <th>0</th>\n",
              "      <td>2021-11-26</td>\n",
              "      <td>z4e838</td>\n",
              "      <td>USMER</td>\n",
              "      <td>SSA</td>\n",
              "      <td>CIUDAD DE MÉXICO</td>\n",
              "      <td>HOMBRE</td>\n",
              "      <td>MÉXICO</td>\n",
              "      <td>MÉXICO</td>\n",
              "      <td>95</td>\n",
              "      <td>HOSPITALIZADO</td>\n",
              "      <td>...</td>\n",
              "      <td>NO ESPECIFICADO</td>\n",
              "      <td>SI</td>\n",
              "      <td>NO POSITIVO A SARS-COV-2</td>\n",
              "      <td>NO</td>\n",
              "      <td>NO APLICA (CASO SIN MUESTRA)</td>\n",
              "      <td>NEGATIVO A SARS-COV-2</td>\n",
              "      <td>NO ESPECIFICADO</td>\n",
              "      <td>México</td>\n",
              "      <td>97</td>\n",
              "      <td>NO</td>\n",
              "    </tr>\n",
              "    <tr>\n",
              "      <th>1</th>\n",
              "      <td>2021-11-26</td>\n",
              "      <td>z2b144</td>\n",
              "      <td>FUERA DE USMER</td>\n",
              "      <td>SSA</td>\n",
              "      <td>CIUDAD DE MÉXICO</td>\n",
              "      <td>MUJER</td>\n",
              "      <td>MÉXICO</td>\n",
              "      <td>CIUDAD DE MÉXICO</td>\n",
              "      <td>2</td>\n",
              "      <td>AMBULATORIO</td>\n",
              "      <td>...</td>\n",
              "      <td>SI</td>\n",
              "      <td>SI</td>\n",
              "      <td>RESULTADO NO ADECUADO</td>\n",
              "      <td>NO</td>\n",
              "      <td>NO APLICA (CASO SIN MUESTRA)</td>\n",
              "      <td>NO REALIZADO POR LABORATORIO</td>\n",
              "      <td>NO ESPECIFICADO</td>\n",
              "      <td>México</td>\n",
              "      <td>97</td>\n",
              "      <td>NO APLICA</td>\n",
              "    </tr>\n",
              "    <tr>\n",
              "      <th>2</th>\n",
              "      <td>2021-11-26</td>\n",
              "      <td>zz7202</td>\n",
              "      <td>USMER</td>\n",
              "      <td>SSA</td>\n",
              "      <td>MICHOACÁN DE OCAMPO</td>\n",
              "      <td>HOMBRE</td>\n",
              "      <td>MICHOACÁN DE OCAMPO</td>\n",
              "      <td>MICHOACÁN DE OCAMPO</td>\n",
              "      <td>112</td>\n",
              "      <td>AMBULATORIO</td>\n",
              "      <td>...</td>\n",
              "      <td>SI</td>\n",
              "      <td>SI</td>\n",
              "      <td>NO POSITIVO A SARS-COV-2</td>\n",
              "      <td>NO</td>\n",
              "      <td>NO APLICA (CASO SIN MUESTRA)</td>\n",
              "      <td>NEGATIVO A SARS-COV-2</td>\n",
              "      <td>NO ESPECIFICADO</td>\n",
              "      <td>México</td>\n",
              "      <td>97</td>\n",
              "      <td>NO APLICA</td>\n",
              "    </tr>\n",
              "    <tr>\n",
              "      <th>3</th>\n",
              "      <td>2021-11-26</td>\n",
              "      <td>z58ed3</td>\n",
              "      <td>FUERA DE USMER</td>\n",
              "      <td>SSA</td>\n",
              "      <td>NAYARIT</td>\n",
              "      <td>MUJER</td>\n",
              "      <td>NAYARIT</td>\n",
              "      <td>NAYARIT</td>\n",
              "      <td>17</td>\n",
              "      <td>AMBULATORIO</td>\n",
              "      <td>...</td>\n",
              "      <td>NO</td>\n",
              "      <td>SI</td>\n",
              "      <td>NO POSITIVO A SARS-COV-2</td>\n",
              "      <td>NO</td>\n",
              "      <td>NO APLICA (CASO SIN MUESTRA)</td>\n",
              "      <td>NEGATIVO A SARS-COV-2</td>\n",
              "      <td>NO ESPECIFICADO</td>\n",
              "      <td>México</td>\n",
              "      <td>97</td>\n",
              "      <td>NO APLICA</td>\n",
              "    </tr>\n",
              "    <tr>\n",
              "      <th>4</th>\n",
              "      <td>2021-11-26</td>\n",
              "      <td>z3be8c</td>\n",
              "      <td>FUERA DE USMER</td>\n",
              "      <td>SSA</td>\n",
              "      <td>CHIAPAS</td>\n",
              "      <td>MUJER</td>\n",
              "      <td>CHIAPAS</td>\n",
              "      <td>CHIAPAS</td>\n",
              "      <td>101</td>\n",
              "      <td>AMBULATORIO</td>\n",
              "      <td>...</td>\n",
              "      <td>NO</td>\n",
              "      <td>SI</td>\n",
              "      <td>NO POSITIVO A SARS-COV-2</td>\n",
              "      <td>NO</td>\n",
              "      <td>NO APLICA (CASO SIN MUESTRA)</td>\n",
              "      <td>NEGATIVO A SARS-COV-2</td>\n",
              "      <td>NO ESPECIFICADO</td>\n",
              "      <td>México</td>\n",
              "      <td>97</td>\n",
              "      <td>NO APLICA</td>\n",
              "    </tr>\n",
              "  </tbody>\n",
              "</table>\n",
              "<p>5 rows × 40 columns</p>\n",
              "</div>"
            ],
            "text/plain": [
              "  FECHA_ACTUALIZACION ID_REGISTRO          ORIGEN SECTOR           ENTIDAD_UM  \\\n",
              "0          2021-11-26      z4e838           USMER    SSA     CIUDAD DE MÉXICO   \n",
              "1          2021-11-26      z2b144  FUERA DE USMER    SSA     CIUDAD DE MÉXICO   \n",
              "2          2021-11-26      zz7202           USMER    SSA  MICHOACÁN DE OCAMPO   \n",
              "3          2021-11-26      z58ed3  FUERA DE USMER    SSA              NAYARIT   \n",
              "4          2021-11-26      z3be8c  FUERA DE USMER    SSA              CHIAPAS   \n",
              "\n",
              "     SEXO          ENTIDAD_NAC          ENTIDAD_RES  MUNICIPIO_RES  \\\n",
              "0  HOMBRE               MÉXICO               MÉXICO             95   \n",
              "1   MUJER               MÉXICO     CIUDAD DE MÉXICO              2   \n",
              "2  HOMBRE  MICHOACÁN DE OCAMPO  MICHOACÁN DE OCAMPO            112   \n",
              "3   MUJER              NAYARIT              NAYARIT             17   \n",
              "4   MUJER              CHIAPAS              CHIAPAS            101   \n",
              "\n",
              "   TIPO_PACIENTE  ...        OTRO_CASO TOMA_MUESTRA_LAB  \\\n",
              "0  HOSPITALIZADO  ...  NO ESPECIFICADO               SI   \n",
              "1    AMBULATORIO  ...               SI               SI   \n",
              "2    AMBULATORIO  ...               SI               SI   \n",
              "3    AMBULATORIO  ...               NO               SI   \n",
              "4    AMBULATORIO  ...               NO               SI   \n",
              "\n",
              "              RESULTADO_LAB TOMA_MUESTRA_ANTIGENO  \\\n",
              "0  NO POSITIVO A SARS-COV-2                    NO   \n",
              "1     RESULTADO NO ADECUADO                    NO   \n",
              "2  NO POSITIVO A SARS-COV-2                    NO   \n",
              "3  NO POSITIVO A SARS-COV-2                    NO   \n",
              "4  NO POSITIVO A SARS-COV-2                    NO   \n",
              "\n",
              "             RESULTADO_ANTIGENO           CLASIFICACION_FINAL  \\\n",
              "0  NO APLICA (CASO SIN MUESTRA)         NEGATIVO A SARS-COV-2   \n",
              "1  NO APLICA (CASO SIN MUESTRA)  NO REALIZADO POR LABORATORIO   \n",
              "2  NO APLICA (CASO SIN MUESTRA)         NEGATIVO A SARS-COV-2   \n",
              "3  NO APLICA (CASO SIN MUESTRA)         NEGATIVO A SARS-COV-2   \n",
              "4  NO APLICA (CASO SIN MUESTRA)         NEGATIVO A SARS-COV-2   \n",
              "\n",
              "          MIGRANTE PAIS_NACIONALIDAD PAIS_ORIGEN        UCI  \n",
              "0  NO ESPECIFICADO            México          97         NO  \n",
              "1  NO ESPECIFICADO            México          97  NO APLICA  \n",
              "2  NO ESPECIFICADO            México          97  NO APLICA  \n",
              "3  NO ESPECIFICADO            México          97  NO APLICA  \n",
              "4  NO ESPECIFICADO            México          97  NO APLICA  \n",
              "\n",
              "[5 rows x 40 columns]"
            ]
          },
          "execution_count": 72,
          "metadata": {},
          "output_type": "execute_result"
        }
      ],
      "source": [
        "df.head()"
      ]
    },
    {
      "cell_type": "code",
      "execution_count": null,
      "metadata": {
        "collapsed": true,
        "id": "OhtejsmDYbIF",
        "jupyter": {
          "outputs_hidden": true
        },
        "outputId": "2e8dbb64-e1c6-457c-bacb-4b8a43dda771"
      },
      "outputs": [
        {
          "ename": "KeyboardInterrupt",
          "evalue": "",
          "output_type": "error",
          "traceback": [
            "\u001b[1;31m---------------------------------------------------------------------------\u001b[0m",
            "\u001b[1;31mKeyboardInterrupt\u001b[0m                         Traceback (most recent call last)",
            "\u001b[1;32m<ipython-input-76-4256c599a95c>\u001b[0m in \u001b[0;36m<module>\u001b[1;34m\u001b[0m\n\u001b[1;32m----> 1\u001b[1;33m \u001b[0mdf\u001b[0m\u001b[1;33m.\u001b[0m\u001b[0mto_csv\u001b[0m\u001b[1;33m(\u001b[0m\u001b[1;34m'sars-cov2.csv'\u001b[0m\u001b[1;33m)\u001b[0m\u001b[1;33m\u001b[0m\u001b[1;33m\u001b[0m\u001b[0m\n\u001b[0m",
            "\u001b[1;32m~\\anaconda3\\lib\\site-packages\\pandas\\core\\generic.py\u001b[0m in \u001b[0;36mto_csv\u001b[1;34m(self, path_or_buf, sep, na_rep, float_format, columns, header, index, index_label, mode, encoding, compression, quoting, quotechar, line_terminator, chunksize, date_format, doublequote, escapechar, decimal, errors, storage_options)\u001b[0m\n\u001b[0;32m   3385\u001b[0m         )\n\u001b[0;32m   3386\u001b[0m \u001b[1;33m\u001b[0m\u001b[0m\n\u001b[1;32m-> 3387\u001b[1;33m         return DataFrameRenderer(formatter).to_csv(\n\u001b[0m\u001b[0;32m   3388\u001b[0m             \u001b[0mpath_or_buf\u001b[0m\u001b[1;33m,\u001b[0m\u001b[1;33m\u001b[0m\u001b[1;33m\u001b[0m\u001b[0m\n\u001b[0;32m   3389\u001b[0m             \u001b[0mline_terminator\u001b[0m\u001b[1;33m=\u001b[0m\u001b[0mline_terminator\u001b[0m\u001b[1;33m,\u001b[0m\u001b[1;33m\u001b[0m\u001b[1;33m\u001b[0m\u001b[0m\n",
            "\u001b[1;32m~\\anaconda3\\lib\\site-packages\\pandas\\io\\formats\\format.py\u001b[0m in \u001b[0;36mto_csv\u001b[1;34m(self, path_or_buf, encoding, sep, columns, index_label, mode, compression, quoting, quotechar, line_terminator, chunksize, date_format, doublequote, escapechar, errors, storage_options)\u001b[0m\n\u001b[0;32m   1081\u001b[0m             \u001b[0mformatter\u001b[0m\u001b[1;33m=\u001b[0m\u001b[0mself\u001b[0m\u001b[1;33m.\u001b[0m\u001b[0mfmt\u001b[0m\u001b[1;33m,\u001b[0m\u001b[1;33m\u001b[0m\u001b[1;33m\u001b[0m\u001b[0m\n\u001b[0;32m   1082\u001b[0m         )\n\u001b[1;32m-> 1083\u001b[1;33m         \u001b[0mcsv_formatter\u001b[0m\u001b[1;33m.\u001b[0m\u001b[0msave\u001b[0m\u001b[1;33m(\u001b[0m\u001b[1;33m)\u001b[0m\u001b[1;33m\u001b[0m\u001b[1;33m\u001b[0m\u001b[0m\n\u001b[0m\u001b[0;32m   1084\u001b[0m \u001b[1;33m\u001b[0m\u001b[0m\n\u001b[0;32m   1085\u001b[0m         \u001b[1;32mif\u001b[0m \u001b[0mcreated_buffer\u001b[0m\u001b[1;33m:\u001b[0m\u001b[1;33m\u001b[0m\u001b[1;33m\u001b[0m\u001b[0m\n",
            "\u001b[1;32m~\\anaconda3\\lib\\site-packages\\pandas\\io\\formats\\csvs.py\u001b[0m in \u001b[0;36msave\u001b[1;34m(self)\u001b[0m\n\u001b[0;32m    246\u001b[0m             )\n\u001b[0;32m    247\u001b[0m \u001b[1;33m\u001b[0m\u001b[0m\n\u001b[1;32m--> 248\u001b[1;33m             \u001b[0mself\u001b[0m\u001b[1;33m.\u001b[0m\u001b[0m_save\u001b[0m\u001b[1;33m(\u001b[0m\u001b[1;33m)\u001b[0m\u001b[1;33m\u001b[0m\u001b[1;33m\u001b[0m\u001b[0m\n\u001b[0m\u001b[0;32m    249\u001b[0m \u001b[1;33m\u001b[0m\u001b[0m\n\u001b[0;32m    250\u001b[0m     \u001b[1;32mdef\u001b[0m \u001b[0m_save\u001b[0m\u001b[1;33m(\u001b[0m\u001b[0mself\u001b[0m\u001b[1;33m)\u001b[0m \u001b[1;33m->\u001b[0m \u001b[1;32mNone\u001b[0m\u001b[1;33m:\u001b[0m\u001b[1;33m\u001b[0m\u001b[1;33m\u001b[0m\u001b[0m\n",
            "\u001b[1;32m~\\anaconda3\\lib\\site-packages\\pandas\\io\\formats\\csvs.py\u001b[0m in \u001b[0;36m_save\u001b[1;34m(self)\u001b[0m\n\u001b[0;32m    251\u001b[0m         \u001b[1;32mif\u001b[0m \u001b[0mself\u001b[0m\u001b[1;33m.\u001b[0m\u001b[0m_need_to_save_header\u001b[0m\u001b[1;33m:\u001b[0m\u001b[1;33m\u001b[0m\u001b[1;33m\u001b[0m\u001b[0m\n\u001b[0;32m    252\u001b[0m             \u001b[0mself\u001b[0m\u001b[1;33m.\u001b[0m\u001b[0m_save_header\u001b[0m\u001b[1;33m(\u001b[0m\u001b[1;33m)\u001b[0m\u001b[1;33m\u001b[0m\u001b[1;33m\u001b[0m\u001b[0m\n\u001b[1;32m--> 253\u001b[1;33m         \u001b[0mself\u001b[0m\u001b[1;33m.\u001b[0m\u001b[0m_save_body\u001b[0m\u001b[1;33m(\u001b[0m\u001b[1;33m)\u001b[0m\u001b[1;33m\u001b[0m\u001b[1;33m\u001b[0m\u001b[0m\n\u001b[0m\u001b[0;32m    254\u001b[0m \u001b[1;33m\u001b[0m\u001b[0m\n\u001b[0;32m    255\u001b[0m     \u001b[1;32mdef\u001b[0m \u001b[0m_save_header\u001b[0m\u001b[1;33m(\u001b[0m\u001b[0mself\u001b[0m\u001b[1;33m)\u001b[0m \u001b[1;33m->\u001b[0m \u001b[1;32mNone\u001b[0m\u001b[1;33m:\u001b[0m\u001b[1;33m\u001b[0m\u001b[1;33m\u001b[0m\u001b[0m\n",
            "\u001b[1;32m~\\anaconda3\\lib\\site-packages\\pandas\\io\\formats\\csvs.py\u001b[0m in \u001b[0;36m_save_body\u001b[1;34m(self)\u001b[0m\n\u001b[0;32m    289\u001b[0m             \u001b[1;32mif\u001b[0m \u001b[0mstart_i\u001b[0m \u001b[1;33m>=\u001b[0m \u001b[0mend_i\u001b[0m\u001b[1;33m:\u001b[0m\u001b[1;33m\u001b[0m\u001b[1;33m\u001b[0m\u001b[0m\n\u001b[0;32m    290\u001b[0m                 \u001b[1;32mbreak\u001b[0m\u001b[1;33m\u001b[0m\u001b[1;33m\u001b[0m\u001b[0m\n\u001b[1;32m--> 291\u001b[1;33m             \u001b[0mself\u001b[0m\u001b[1;33m.\u001b[0m\u001b[0m_save_chunk\u001b[0m\u001b[1;33m(\u001b[0m\u001b[0mstart_i\u001b[0m\u001b[1;33m,\u001b[0m \u001b[0mend_i\u001b[0m\u001b[1;33m)\u001b[0m\u001b[1;33m\u001b[0m\u001b[1;33m\u001b[0m\u001b[0m\n\u001b[0m\u001b[0;32m    292\u001b[0m \u001b[1;33m\u001b[0m\u001b[0m\n\u001b[0;32m    293\u001b[0m     \u001b[1;32mdef\u001b[0m \u001b[0m_save_chunk\u001b[0m\u001b[1;33m(\u001b[0m\u001b[0mself\u001b[0m\u001b[1;33m,\u001b[0m \u001b[0mstart_i\u001b[0m\u001b[1;33m:\u001b[0m \u001b[0mint\u001b[0m\u001b[1;33m,\u001b[0m \u001b[0mend_i\u001b[0m\u001b[1;33m:\u001b[0m \u001b[0mint\u001b[0m\u001b[1;33m)\u001b[0m \u001b[1;33m->\u001b[0m \u001b[1;32mNone\u001b[0m\u001b[1;33m:\u001b[0m\u001b[1;33m\u001b[0m\u001b[1;33m\u001b[0m\u001b[0m\n",
            "\u001b[1;32m~\\anaconda3\\lib\\site-packages\\pandas\\io\\formats\\csvs.py\u001b[0m in \u001b[0;36m_save_chunk\u001b[1;34m(self, start_i, end_i)\u001b[0m\n\u001b[0;32m    300\u001b[0m \u001b[1;33m\u001b[0m\u001b[0m\n\u001b[0;32m    301\u001b[0m         \u001b[0mix\u001b[0m \u001b[1;33m=\u001b[0m \u001b[0mself\u001b[0m\u001b[1;33m.\u001b[0m\u001b[0mdata_index\u001b[0m\u001b[1;33m[\u001b[0m\u001b[0mslicer\u001b[0m\u001b[1;33m]\u001b[0m\u001b[1;33m.\u001b[0m\u001b[0m_format_native_types\u001b[0m\u001b[1;33m(\u001b[0m\u001b[1;33m**\u001b[0m\u001b[0mself\u001b[0m\u001b[1;33m.\u001b[0m\u001b[0m_number_format\u001b[0m\u001b[1;33m)\u001b[0m\u001b[1;33m\u001b[0m\u001b[1;33m\u001b[0m\u001b[0m\n\u001b[1;32m--> 302\u001b[1;33m         \u001b[0mlibwriters\u001b[0m\u001b[1;33m.\u001b[0m\u001b[0mwrite_csv_rows\u001b[0m\u001b[1;33m(\u001b[0m\u001b[0mdata\u001b[0m\u001b[1;33m,\u001b[0m \u001b[0mix\u001b[0m\u001b[1;33m,\u001b[0m \u001b[0mself\u001b[0m\u001b[1;33m.\u001b[0m\u001b[0mnlevels\u001b[0m\u001b[1;33m,\u001b[0m \u001b[0mself\u001b[0m\u001b[1;33m.\u001b[0m\u001b[0mcols\u001b[0m\u001b[1;33m,\u001b[0m \u001b[0mself\u001b[0m\u001b[1;33m.\u001b[0m\u001b[0mwriter\u001b[0m\u001b[1;33m)\u001b[0m\u001b[1;33m\u001b[0m\u001b[1;33m\u001b[0m\u001b[0m\n\u001b[0m",
            "\u001b[1;32mpandas\\_libs\\writers.pyx\u001b[0m in \u001b[0;36mpandas._libs.writers.write_csv_rows\u001b[1;34m()\u001b[0m\n",
            "\u001b[1;31mKeyboardInterrupt\u001b[0m: "
          ]
        }
      ],
      "source": [
        "df.to_csv('sars-cov2.csv', header=False, index=False)"
      ]
    }
  ],
  "metadata": {
    "colab": {
      "collapsed_sections": [],
      "name": "SARS-COV-2-TRANSFORMACION.ipynb",
      "provenance": [],
      "include_colab_link": true
    },
    "kernelspec": {
      "display_name": "Python 3",
      "language": "python",
      "name": "python3"
    },
    "language_info": {
      "codemirror_mode": {
        "name": "ipython",
        "version": 3
      },
      "file_extension": ".py",
      "mimetype": "text/x-python",
      "name": "python",
      "nbconvert_exporter": "python",
      "pygments_lexer": "ipython3",
      "version": "3.8.8"
    }
  },
  "nbformat": 4,
  "nbformat_minor": 0
}